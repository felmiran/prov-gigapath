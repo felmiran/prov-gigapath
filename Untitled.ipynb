{
 "cells": [
  {
   "cell_type": "code",
   "execution_count": 6,
   "id": "0d70269b-2707-49c4-94de-8bef90daa1a0",
   "metadata": {},
   "outputs": [],
   "source": [
    "def split_dataframe(df, n_splits):\n",
    "    \"\"\"\n",
    "    Splits a DataFrame into n smaller DataFrames.\n",
    "\n",
    "    Parameters:\n",
    "    ----------\n",
    "    df : pandas.DataFrame\n",
    "        The DataFrame to split.\n",
    "    n_splits : int\n",
    "        The number of splits to create.\n",
    "\n",
    "    Returns:\n",
    "    -------\n",
    "    list\n",
    "        A list containing the split DataFrames.\n",
    "    \"\"\"\n",
    "    # Calculate the number of columns per split\n",
    "    num_rows = df.shape[0]\n",
    "    rows_per_split = num_rows // n_splits\n",
    "    \n",
    "    # Create a list to hold the resulting DataFrames\n",
    "    dfs = []\n",
    "    \n",
    "    for i in range(n_splits):\n",
    "        start_row = i * rows_per_split\n",
    "        # For the last split, ensure it includes all remaining columns\n",
    "        end_row = start_row + rows_per_split if i < n_splits - 1 else num_rows\n",
    "        dfs.append(df.iloc[start_row:end_row, :])\n",
    "    \n",
    "    return dfs\n",
    "    "
   ]
  },
  {
   "cell_type": "code",
   "execution_count": 7,
   "id": "05d662a1-75bd-47fb-86fc-121b0da3d2e7",
   "metadata": {},
   "outputs": [],
   "source": [
    "import pandas as pd\n",
    "\n",
    "d = {'col1': [1, 23,4,5,6,3,3,3,3], 'col2': [3, 42,2,2,34,54,6,6,1]}\n",
    "df = pd.DataFrame(data=d)"
   ]
  },
  {
   "cell_type": "code",
   "execution_count": 9,
   "id": "ebbe3ef0-ef09-4feb-904f-d6e19d8617e3",
   "metadata": {},
   "outputs": [
    {
     "data": {
      "text/plain": [
       "[   col1  col2\n",
       " 0     1     3,\n",
       "    col1  col2\n",
       " 1    23    42,\n",
       "    col1  col2\n",
       " 2     4     2,\n",
       "    col1  col2\n",
       " 3     5     2,\n",
       "    col1  col2\n",
       " 4     6    34,\n",
       "    col1  col2\n",
       " 5     3    54\n",
       " 6     3     6\n",
       " 7     3     6\n",
       " 8     3     1]"
      ]
     },
     "execution_count": 9,
     "metadata": {},
     "output_type": "execute_result"
    }
   ],
   "source": [
    "split_dataframe(df, 6)"
   ]
  },
  {
   "cell_type": "code",
   "execution_count": null,
   "id": "416546b9-d771-4c6e-a7e7-6e427ad1531e",
   "metadata": {},
   "outputs": [],
   "source": []
  }
 ],
 "metadata": {
  "kernelspec": {
   "display_name": "Python 3 (ipykernel)",
   "language": "python",
   "name": "python3"
  },
  "language_info": {
   "codemirror_mode": {
    "name": "ipython",
    "version": 3
   },
   "file_extension": ".py",
   "mimetype": "text/x-python",
   "name": "python",
   "nbconvert_exporter": "python",
   "pygments_lexer": "ipython3",
   "version": "3.11.4"
  }
 },
 "nbformat": 4,
 "nbformat_minor": 5
}
