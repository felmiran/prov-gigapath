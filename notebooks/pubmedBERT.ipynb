{
 "cells": [
  {
   "cell_type": "code",
   "execution_count": 1,
   "id": "7e503dc8-0202-45d4-9d0e-c6dd2596c40e",
   "metadata": {},
   "outputs": [],
   "source": [
    "import torch\n",
    "from urllib.request import urlopen\n",
    "from PIL import Image\n",
    "from open_clip import create_model_from_pretrained, get_tokenizer"
   ]
  },
  {
   "cell_type": "code",
   "execution_count": 2,
   "id": "127750e3-5eb8-49b5-9568-77e2595722e6",
   "metadata": {},
   "outputs": [
    {
     "data": {
      "application/vnd.jupyter.widget-view+json": {
       "model_id": "d215851613124881a454ebd840d9f227",
       "version_major": 2,
       "version_minor": 0
      },
      "text/plain": [
       "open_clip_pytorch_model.bin:   0%|          | 0.00/784M [00:00<?, ?B/s]"
      ]
     },
     "metadata": {},
     "output_type": "display_data"
    },
    {
     "data": {
      "application/vnd.jupyter.widget-view+json": {
       "model_id": "d2064089f7934e3d89e3f99e39a9e962",
       "version_major": 2,
       "version_minor": 0
      },
      "text/plain": [
       "open_clip_config.json:   0%|          | 0.00/707 [00:00<?, ?B/s]"
      ]
     },
     "metadata": {},
     "output_type": "display_data"
    },
    {
     "data": {
      "application/vnd.jupyter.widget-view+json": {
       "model_id": "e6f097d851444de19c4ee10bd967e83a",
       "version_major": 2,
       "version_minor": 0
      },
      "text/plain": [
       "config.json:   0%|          | 0.00/385 [00:00<?, ?B/s]"
      ]
     },
     "metadata": {},
     "output_type": "display_data"
    },
    {
     "name": "stderr",
     "output_type": "stream",
     "text": [
      "/opt/conda/envs/gigapath/lib/python3.9/site-packages/torch/_utils.py:776: UserWarning: TypedStorage is deprecated. It will be removed in the future and UntypedStorage will be the only storage class. This should only matter to you if you are using storages directly.  To access UntypedStorage directly, use tensor.untyped_storage() instead of tensor.storage()\n",
      "  return self.fget.__get__(instance, owner)()\n"
     ]
    },
    {
     "data": {
      "application/vnd.jupyter.widget-view+json": {
       "model_id": "dedbff7cc82c4d74989b41fd2094ec48",
       "version_major": 2,
       "version_minor": 0
      },
      "text/plain": [
       "tokenizer_config.json:   0%|          | 0.00/28.0 [00:00<?, ?B/s]"
      ]
     },
     "metadata": {},
     "output_type": "display_data"
    },
    {
     "data": {
      "application/vnd.jupyter.widget-view+json": {
       "model_id": "f107f2cc4c3a4ce8945d579e1f8c838f",
       "version_major": 2,
       "version_minor": 0
      },
      "text/plain": [
       "vocab.txt:   0%|          | 0.00/225k [00:00<?, ?B/s]"
      ]
     },
     "metadata": {},
     "output_type": "display_data"
    }
   ],
   "source": [
    "model, preprocess = create_model_from_pretrained('hf-hub:microsoft/BiomedCLIP-PubMedBERT_256-vit_base_patch16_224')\n",
    "tokenizer = get_tokenizer('hf-hub:microsoft/BiomedCLIP-PubMedBERT_256-vit_base_patch16_224')"
   ]
  },
  {
   "cell_type": "code",
   "execution_count": 3,
   "id": "4f33c6b4-a56e-49cd-8821-0414ca26416b",
   "metadata": {},
   "outputs": [
    {
     "name": "stdout",
     "output_type": "stream",
     "text": [
      "squamous_cell_carcinoma_histopathology.jpeg:\n",
      "squamous cell carcinoma histopathology: 0.9966273903846741\n",
      "adenocarcinoma histopathology: 0.001729381619952619\n",
      "hematoxylin and eosin histopathology: 0.0015964966733008623\n",
      "immunohistochemistry histopathology: 4.669334884965792e-05\n",
      "chest X-ray: 1.3645713899113066e-11\n",
      "brain MRI: 5.830355729458114e-12\n",
      "pie chart: 2.8427186819779404e-12\n",
      "covid line chart: 9.758993743322342e-13\n",
      "bone X-ray: 2.916152155906307e-14\n",
      "\n",
      "\n",
      "H_and_E_histopathology.jpg:\n",
      "hematoxylin and eosin histopathology: 0.9874217510223389\n",
      "immunohistochemistry histopathology: 0.012366289272904396\n",
      "adenocarcinoma histopathology: 0.00014627310156356543\n",
      "squamous cell carcinoma histopathology: 5.228187728789635e-05\n",
      "brain MRI: 1.0751627996796742e-05\n",
      "chest X-ray: 1.7537461189931491e-06\n",
      "bone X-ray: 6.795101512580004e-07\n",
      "pie chart: 2.5037959971996315e-07\n",
      "covid line chart: 4.0074159268765897e-11\n",
      "\n",
      "\n",
      "bone_X-ray.jpg:\n",
      "bone X-ray: 0.9994799494743347\n",
      "pie chart: 0.0004478811169974506\n",
      "brain MRI: 4.3136573367519304e-05\n",
      "chest X-ray: 2.325632522115484e-05\n",
      "hematoxylin and eosin histopathology: 5.793883701699087e-06\n",
      "immunohistochemistry histopathology: 2.9081371977213166e-08\n",
      "adenocarcinoma histopathology: 5.030666994088051e-09\n",
      "squamous cell carcinoma histopathology: 1.25493270289323e-11\n",
      "covid line chart: 1.2532248676311308e-11\n",
      "\n",
      "\n",
      "adenocarcinoma_histopathology.jpg:\n",
      "adenocarcinoma histopathology: 0.7322624921798706\n",
      "hematoxylin and eosin histopathology: 0.26615044474601746\n",
      "immunohistochemistry histopathology: 0.0014763365034013987\n",
      "squamous cell carcinoma histopathology: 0.0001097366475732997\n",
      "brain MRI: 5.758132601840771e-07\n",
      "chest X-ray: 3.1876609796199773e-07\n",
      "pie chart: 2.9384528588138892e-08\n",
      "covid line chart: 6.052400802758484e-09\n",
      "bone X-ray: 9.534970590863168e-10\n",
      "\n",
      "\n",
      "covid_line_chart.png:\n",
      "covid line chart: 0.9999313354492188\n",
      "immunohistochemistry histopathology: 4.758788418257609e-05\n",
      "hematoxylin and eosin histopathology: 6.107862191129243e-06\n",
      "brain MRI: 5.340699772204971e-06\n",
      "squamous cell carcinoma histopathology: 4.48261562269181e-06\n",
      "pie chart: 4.125414761801949e-06\n",
      "bone X-ray: 4.393774304389808e-07\n",
      "chest X-ray: 4.36251809787791e-07\n",
      "adenocarcinoma histopathology: 2.9607123863684137e-08\n",
      "\n",
      "\n",
      "IHC_histopathology.jpg:\n",
      "immunohistochemistry histopathology: 0.9973533153533936\n",
      "hematoxylin and eosin histopathology: 0.001944880816154182\n",
      "brain MRI: 0.0006795629160478711\n",
      "adenocarcinoma histopathology: 1.2488386346376501e-05\n",
      "squamous cell carcinoma histopathology: 8.716604497749358e-06\n",
      "bone X-ray: 7.965170425450196e-07\n",
      "chest X-ray: 1.9491662328618986e-07\n",
      "pie chart: 2.8252419070895485e-08\n",
      "covid line chart: 4.778657025639177e-09\n",
      "\n",
      "\n",
      "chest_X-ray.jpg:\n",
      "chest X-ray: 0.9999420642852783\n",
      "bone X-ray: 5.677872832166031e-05\n",
      "hematoxylin and eosin histopathology: 8.007488077055314e-07\n",
      "brain MRI: 2.0063845340700937e-07\n",
      "immunohistochemistry histopathology: 6.691703191563647e-08\n",
      "covid line chart: 4.972756784127341e-08\n",
      "adenocarcinoma histopathology: 4.0732565764756146e-08\n",
      "pie chart: 7.257577872010756e-10\n",
      "squamous cell carcinoma histopathology: 1.9824353270081474e-10\n",
      "\n",
      "\n",
      "brain_MRI.jpg:\n",
      "brain MRI: 0.9999922513961792\n",
      "hematoxylin and eosin histopathology: 5.947841145825805e-06\n",
      "immunohistochemistry histopathology: 1.6712652950445772e-06\n",
      "pie chart: 1.0552582097034247e-07\n",
      "bone X-ray: 3.7441971301177546e-08\n",
      "chest X-ray: 4.858758728687462e-09\n",
      "adenocarcinoma histopathology: 1.9369095216603682e-09\n",
      "squamous cell carcinoma histopathology: 2.331514703524107e-10\n",
      "covid line chart: 3.6202614257102583e-12\n",
      "\n",
      "\n",
      "pie_chart.png:\n",
      "pie chart: 0.9999972581863403\n",
      "covid line chart: 2.5175984319503186e-06\n",
      "immunohistochemistry histopathology: 1.5237138484280877e-07\n",
      "hematoxylin and eosin histopathology: 2.977552071570244e-08\n",
      "chest X-ray: 7.584886496658783e-09\n",
      "bone X-ray: 3.295093753408196e-09\n",
      "brain MRI: 2.0322024063545996e-09\n",
      "adenocarcinoma histopathology: 1.0487871682229866e-09\n",
      "squamous cell carcinoma histopathology: 1.5559807609033527e-10\n",
      "\n",
      "\n"
     ]
    }
   ],
   "source": [
    "\n",
    "# Zero-shot image classification\n",
    "template = 'this is a photo of '\n",
    "labels = [\n",
    "    'adenocarcinoma histopathology',\n",
    "    'brain MRI',\n",
    "    'covid line chart',\n",
    "    'squamous cell carcinoma histopathology',\n",
    "    'immunohistochemistry histopathology',\n",
    "    'bone X-ray',\n",
    "    'chest X-ray',\n",
    "    'pie chart',\n",
    "    'hematoxylin and eosin histopathology'\n",
    "]\n",
    "\n",
    "dataset_url = 'https://huggingface.co/microsoft/BiomedCLIP-PubMedBERT_256-vit_base_patch16_224/resolve/main/example_data/biomed_image_classification_example_data/'\n",
    "test_imgs = [\n",
    "    'squamous_cell_carcinoma_histopathology.jpeg',\n",
    "    'H_and_E_histopathology.jpg',\n",
    "    'bone_X-ray.jpg',\n",
    "    'adenocarcinoma_histopathology.jpg',\n",
    "    'covid_line_chart.png',\n",
    "    'IHC_histopathology.jpg',\n",
    "    'chest_X-ray.jpg',\n",
    "    'brain_MRI.jpg',\n",
    "    'pie_chart.png'\n",
    "]\n",
    "device = torch.device('cuda') if torch.cuda.is_available() else torch.device('cpu')\n",
    "model.to(device)\n",
    "model.eval()\n",
    "\n",
    "context_length = 256\n",
    "\n",
    "images = torch.stack([preprocess(Image.open(urlopen(dataset_url + img))) for img in test_imgs]).to(device)\n",
    "texts = tokenizer([template + l for l in labels], context_length=context_length).to(device)\n",
    "with torch.no_grad():\n",
    "    image_features, text_features, logit_scale = model(images, texts)\n",
    "\n",
    "    logits = (logit_scale * image_features @ text_features.t()).detach().softmax(dim=-1)\n",
    "    sorted_indices = torch.argsort(logits, dim=-1, descending=True)\n",
    "\n",
    "    logits = logits.cpu().numpy()\n",
    "    sorted_indices = sorted_indices.cpu().numpy()\n",
    "\n",
    "top_k = -1\n",
    "\n",
    "for i, img in enumerate(test_imgs):\n",
    "    pred = labels[sorted_indices[i][0]]\n",
    "\n",
    "    top_k = len(labels) if top_k == -1 else top_k\n",
    "    print(img.split('/')[-1] + ':')\n",
    "    for j in range(top_k):\n",
    "        jth_index = sorted_indices[i][j]\n",
    "        print(f'{labels[jth_index]}: {logits[i][jth_index]}')\n",
    "    print('\\n')"
   ]
  },
  {
   "cell_type": "code",
   "execution_count": null,
   "id": "6011051d-5595-4c31-9e5d-7a50a4ea5d93",
   "metadata": {},
   "outputs": [],
   "source": []
  }
 ],
 "metadata": {
  "kernelspec": {
   "display_name": "Python 3 (ipykernel)",
   "language": "python",
   "name": "python3"
  },
  "language_info": {
   "codemirror_mode": {
    "name": "ipython",
    "version": 3
   },
   "file_extension": ".py",
   "mimetype": "text/x-python",
   "name": "python",
   "nbconvert_exporter": "python",
   "pygments_lexer": "ipython3",
   "version": "3.9.20"
  }
 },
 "nbformat": 4,
 "nbformat_minor": 5
}
